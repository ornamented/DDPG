{
 "cells": [
  {
   "cell_type": "markdown",
   "metadata": {},
   "source": [
    "# Testing reward function"
   ]
  },
  {
   "cell_type": "code",
   "execution_count": 22,
   "metadata": {},
   "outputs": [],
   "source": [
    "import numpy as np\n",
    "\n",
    "def dist_reward(current,goal,lb,ub):\n",
    "    dist_reward = (abs(goal - current) / max(abs(goal)-lb,abs(goal-ub))) ** 0.4\n",
    "    return dist_reward\n",
    "\n",
    "def velocity_discount(current,goal,lb,ub,v,ub_v):\n",
    "    discount = pow(1 - max(abs(v)/abs(ub_v),0.1),1/max(dist_reward(current,goal,lb,ub),0.1))\n",
    "    print(1 - max(abs(v)/abs(ub_v),0.1),',', 1/max(dist_reward(current,goal,lb,ub),0.1))\n",
    "    return discount\n",
    "\n",
    "def partial_reward(current,goal,lb,ub,v,ub_v):\n",
    "    partial_reward = 0.\n",
    "    for i in range(len(goal)):\n",
    "        temp = dist_reward(current[i],goal[i],lb[i],ub[i]) * velocity_discount(current[i],goal[i],lb[i],ub[i],v[i],ub_v[i])\n",
    "#         print('i: ',i,'dist_reward: ',dist_reward(current[i],goal[i],lb[i],ub[i]))\n",
    "#         print('i: ',i,'velocity_discount: ',velocity_discount(current[i],goal[i],lb[i],ub[i],v[i],ub_v[i]))\n",
    "        print('i: ',i,'reward: ',temp)\n",
    "        partial_reward += temp\n",
    "    return partial_reward\n",
    "\n",
    "# reward = (1 - .3*partial_reward(self.sim.pose[:3],self.target_pos, \\\n",
    "#         self.sim.lower_bounds,self.sim.upper_bounds, self.sim.v[:3],[10,10,50])) \\\n",
    "#         / self.action_repeat"
   ]
  },
  {
   "cell_type": "code",
   "execution_count": 23,
   "metadata": {},
   "outputs": [
    {
     "name": "stdout",
     "output_type": "stream",
     "text": [
      "0.835341946828033 , 5.431253448989256\n",
      "i:  0 reward:  0.06929869984749458\n",
      "-0.04537204202137013 , 2.710965065798703\n",
      "i:  1 reward:  (-5.18278233127182e-05+6.639936158608432e-05j)\n",
      "0.18504761883533005 , 1.5327783153880448\n",
      "i:  2 reward:  0.049139268973168476\n",
      "(0.11838614099735034+6.639936158608432e-05j)\n"
     ]
    }
   ],
   "source": [
    "print(partial_reward([-2.18193136417477,12.3959968182252,98.4305036639498],[0.,0.,150.],[-150.,-150.,0.],[150.,150.,300.],[-1.64658053171967,10.4537204202137,-40.7476190582335],[10.,10.,50.]\n",
    "))"
   ]
  },
  {
   "cell_type": "code",
   "execution_count": 25,
   "metadata": {},
   "outputs": [
    {
     "name": "stdout",
     "output_type": "stream",
     "text": [
      "0.712609605187008 , 2.627386238974489\n",
      "i:  0 reward:  0.15626459352940747\n",
      "0.36134520515147606 , 2.486664740983831\n",
      "i:  1 reward:  0.03199511863776594\n",
      "-0.11441764437324808 , 1.1361481497188075\n",
      "i:  2 reward:  (-0.06821399360337263-0.031096494272522153j)\n",
      "(0.12004571856380078-0.031096494272522153j)\n"
     ]
    }
   ],
   "source": [
    "print(partial_reward([13.4054518375714,-15.3832524780623,40.9805855166872],[0.,0.,150.],[-150.,-150.,0.],[150.,150.,300.],[-2.87390394812992,6.38654794848524,-55.7208822186624],[10.,10.,50.]\n",
    "))"
   ]
  },
  {
   "cell_type": "code",
   "execution_count": 24,
   "metadata": {},
   "outputs": [
    {
     "name": "stdout",
     "output_type": "stream",
     "text": [
      "(-0.00014050341843716645+0.00018000634965121065j)\n"
     ]
    }
   ],
   "source": [
    "print(pow(-.0453720420213701 , 2.710965065798703))"
   ]
  },
  {
   "cell_type": "code",
   "execution_count": null,
   "metadata": {},
   "outputs": [],
   "source": []
  }
 ],
 "metadata": {
  "kernelspec": {
   "display_name": "Python 3",
   "language": "python",
   "name": "python3"
  },
  "language_info": {
   "codemirror_mode": {
    "name": "ipython",
    "version": 3
   },
   "file_extension": ".py",
   "mimetype": "text/x-python",
   "name": "python",
   "nbconvert_exporter": "python",
   "pygments_lexer": "ipython3",
   "version": "3.5.6"
  }
 },
 "nbformat": 4,
 "nbformat_minor": 2
}
